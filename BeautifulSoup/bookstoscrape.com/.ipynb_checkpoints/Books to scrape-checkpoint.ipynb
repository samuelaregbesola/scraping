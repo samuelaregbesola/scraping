{
 "cells": [
  {
   "cell_type": "markdown",
   "id": "e02fc2a9",
   "metadata": {},
   "source": [
    "# Scraping\n",
    "\n",
    "The plan is to scrape the [Books to scrape](https://books.toscrape.com) website\n",
    "\n",
    "<img src=\"books_screenshot.png\" width=700 height=100 alt=\"books.toscrape.com\">\n",
    "\n",
    "The website contains 1000 books split accross 50 pages. \n",
    "\n",
    "Detailed plan include:\n",
    "\n",
    "1. Get links for all books\n",
    "2. Using links obtained from step one extract:\n",
    "    * book id\n",
    "    * book title\n",
    "    * book category\n",
    "    * book price\n",
    "    * book rating\n",
    "    * book product type\n",
    "    * price (incl) and (excl) tax\n",
    "    * tax\n",
    "    * number of reviews\n",
    "    * book description\n",
    "    \n",
    "Libraries: [BeautifulSoup](https://www.crummy.com/software/BeautifulSoup/bs4/doc/), [requests](https://requests.readthedocs.io/en/latest/), and [pandas](https://pandas.pydata.org/docs/) "
   ]
  },
  {
   "cell_type": "markdown",
   "id": "3750caeb",
   "metadata": {},
   "source": [
    "---"
   ]
  },
  {
   "cell_type": "markdown",
   "id": "f1661159",
   "metadata": {},
   "source": [
    "## Setup"
   ]
  },
  {
   "cell_type": "code",
   "execution_count": 1,
   "id": "57d880d8",
   "metadata": {},
   "outputs": [],
   "source": [
    "# imports\n",
    "import pandas as pd\n",
    "from bs4 import BeautifulSoup\n",
    "import requests"
   ]
  },
  {
   "cell_type": "code",
   "execution_count": 2,
   "id": "e0f41758",
   "metadata": {},
   "outputs": [],
   "source": [
    "#base url\n",
    "base_url = 'https://books.toscrape.com/catalogue/'"
   ]
  },
  {
   "cell_type": "markdown",
   "id": "966391f1",
   "metadata": {},
   "source": [
    "---"
   ]
  },
  {
   "cell_type": "markdown",
   "id": "b4caf307",
   "metadata": {},
   "source": [
    "## 1. Get link for all books"
   ]
  },
  {
   "cell_type": "code",
   "execution_count": 4,
   "id": "eee08b75",
   "metadata": {
    "collapsed": true
   },
   "outputs": [
    {
     "name": "stdout",
     "output_type": "stream",
     "text": [
      "fetching links in page 1...\n",
      "fetching links in page 2...\n",
      "fetching links in page 3...\n",
      "fetching links in page 4...\n",
      "fetching links in page 5...\n",
      "fetching links in page 6...\n",
      "fetching links in page 7...\n",
      "fetching links in page 8...\n",
      "fetching links in page 9...\n",
      "fetching links in page 10...\n",
      "fetching links in page 11...\n",
      "fetching links in page 12...\n",
      "fetching links in page 13...\n",
      "fetching links in page 14...\n",
      "fetching links in page 15...\n",
      "fetching links in page 16...\n",
      "fetching links in page 17...\n",
      "fetching links in page 18...\n",
      "fetching links in page 19...\n",
      "fetching links in page 20...\n",
      "fetching links in page 21...\n",
      "fetching links in page 22...\n",
      "fetching links in page 23...\n",
      "fetching links in page 24...\n",
      "fetching links in page 25...\n",
      "fetching links in page 26...\n",
      "fetching links in page 27...\n",
      "fetching links in page 28...\n",
      "fetching links in page 29...\n",
      "fetching links in page 30...\n",
      "fetching links in page 31...\n",
      "fetching links in page 32...\n",
      "fetching links in page 33...\n",
      "fetching links in page 34...\n",
      "fetching links in page 35...\n",
      "fetching links in page 36...\n",
      "fetching links in page 37...\n",
      "fetching links in page 38...\n",
      "fetching links in page 39...\n",
      "fetching links in page 40...\n",
      "fetching links in page 41...\n",
      "fetching links in page 42...\n",
      "fetching links in page 43...\n",
      "fetching links in page 44...\n",
      "fetching links in page 45...\n",
      "fetching links in page 46...\n",
      "fetching links in page 47...\n",
      "fetching links in page 48...\n",
      "fetching links in page 49...\n",
      "fetching links in page 50...\n",
      "fetching complete\n"
     ]
    }
   ],
   "source": [
    "# empty link list to be populated\n",
    "links = []\n",
    "\n",
    "#while loop parameters\n",
    "fetching = True\n",
    "current = 1\n",
    "\n",
    "#begin while loop\n",
    "while fetching:\n",
    "    #get current url and setup beautiful soup\n",
    "    url = f'{base_url}page-{current}.html'\n",
    "    page = requests.get(url)\n",
    "    soup = BeautifulSoup(page.text, 'html')\n",
    "    articles = soup.find_all('article', class_='product_pod')\n",
    "    \n",
    "    print(f'fetching links in page {current}...')\n",
    "    \n",
    "    #get link to all articles in current page\n",
    "    for article in articles:\n",
    "        for link in article.find_all('a'):\n",
    "            href = link.get('href')\n",
    "        links.append(f'https://books.toscrape.com/catalogue/{href}')\n",
    "    \n",
    "    \n",
    "    #next page functionality and loop termnination\n",
    "    next_page = soup.find('li', class_='next')\n",
    "    if next_page:\n",
    "        current += 1\n",
    "    else:\n",
    "        print('fetching complete')\n",
    "        fetching = False"
   ]
  },
  {
   "cell_type": "code",
   "execution_count": 5,
   "id": "198df787",
   "metadata": {},
   "outputs": [
    {
     "data": {
      "text/plain": [
       "['https://books.toscrape.com/catalogue/a-light-in-the-attic_1000/index.html',\n",
       " 'https://books.toscrape.com/catalogue/tipping-the-velvet_999/index.html',\n",
       " 'https://books.toscrape.com/catalogue/soumission_998/index.html',\n",
       " 'https://books.toscrape.com/catalogue/sharp-objects_997/index.html',\n",
       " 'https://books.toscrape.com/catalogue/sapiens-a-brief-history-of-humankind_996/index.html']"
      ]
     },
     "execution_count": 5,
     "metadata": {},
     "output_type": "execute_result"
    }
   ],
   "source": [
    "#display links\n",
    "links[0:5]"
   ]
  },
  {
   "cell_type": "code",
   "execution_count": 6,
   "id": "e08fefbc",
   "metadata": {},
   "outputs": [
    {
     "data": {
      "text/plain": [
       "1000"
      ]
     },
     "execution_count": 6,
     "metadata": {},
     "output_type": "execute_result"
    }
   ],
   "source": [
    "#check links length\n",
    "len(links)"
   ]
  },
  {
   "cell_type": "markdown",
   "id": "2b363cb7",
   "metadata": {},
   "source": [
    "---"
   ]
  },
  {
   "cell_type": "markdown",
   "id": "f48f335a",
   "metadata": {},
   "source": [
    "## Extract individual book details"
   ]
  },
  {
   "cell_type": "code",
   "execution_count": 169,
   "id": "fab38147",
   "metadata": {},
   "outputs": [],
   "source": [
    "#helper functions\n",
    "import re\n",
    "\n",
    "# format prices\n",
    "def format_price(price):\n",
    "    \"\"\"\n",
    "    prices come in the format => Â£51.77 \n",
    "    we want to remove Â£ and convert to float\n",
    "    \"\"\"\n",
    "    return float(price.replace(\"Â£\", ''))\n",
    "\n",
    "#format availability\n",
    "def format_availabilty(availability):\n",
    "    \"\"\"\n",
    "    availability takes the form => In stock (22 available)\n",
    "    we want to extract the digit using regex\n",
    "    \"\"\"\n",
    "    match = re.findall(r'-?\\d+\\.?\\d*', availability)[0]\n",
    "    return int(match)\n",
    "\n",
    "# format ratings\n",
    "def format_rating(rating):\n",
    "    \"\"\"\n",
    "    ratings come in the format => one, two, three...\n",
    "    we want to convert to number using the string map below\n",
    "    \"\"\"\n",
    "    string_map = {\n",
    "        \"Zero\": \"0\",\n",
    "        \"One\": \"1\",\n",
    "        \"Two\": \"2\",\n",
    "        \"Three\": \"3\",\n",
    "        \"Four\": \"4\",\n",
    "        \"Five\": \"5\",\n",
    "    }\n",
    "    \n",
    "    rating = rating.replace(rating, string_map[rating])\n",
    "    return int(rating)"
   ]
  },
  {
   "cell_type": "code",
   "execution_count": null,
   "id": "19ed045d",
   "metadata": {
    "scrolled": true
   },
   "outputs": [
    {
     "name": "stdout",
     "output_type": "stream",
     "text": [
      "fetching book 1...\n",
      "fetching book 2...\n",
      "fetching book 3...\n",
      "fetching book 4...\n",
      "fetching book 5...\n",
      "fetching book 6...\n",
      "fetching book 7...\n",
      "fetching book 8...\n",
      "fetching book 9...\n",
      "fetching book 10...\n",
      "fetching book 11...\n",
      "fetching book 12...\n",
      "fetching book 13...\n",
      "fetching book 14...\n",
      "fetching book 15...\n",
      "fetching book 16...\n",
      "fetching book 17...\n",
      "fetching book 18...\n",
      "fetching book 19...\n",
      "fetching book 20...\n",
      "fetching book 21...\n",
      "fetching book 22...\n",
      "fetching book 23...\n",
      "fetching book 24...\n",
      "fetching book 25...\n",
      "fetching book 26...\n",
      "fetching book 27...\n",
      "fetching book 28...\n",
      "fetching book 29...\n",
      "fetching book 30...\n",
      "fetching book 31...\n",
      "fetching book 32...\n",
      "fetching book 33...\n",
      "fetching book 34...\n",
      "fetching book 35...\n",
      "fetching book 36...\n",
      "fetching book 37...\n",
      "fetching book 38...\n",
      "fetching book 39...\n",
      "fetching book 40...\n",
      "fetching book 41...\n",
      "fetching book 42...\n",
      "fetching book 43...\n",
      "fetching book 44...\n",
      "fetching book 45...\n",
      "fetching book 46...\n",
      "fetching book 47...\n",
      "fetching book 48...\n",
      "fetching book 49...\n",
      "fetching book 50...\n",
      "fetching book 51...\n",
      "fetching book 52...\n",
      "fetching book 53...\n",
      "fetching book 54...\n",
      "fetching book 55...\n",
      "fetching book 56...\n",
      "fetching book 57...\n",
      "fetching book 58...\n",
      "fetching book 59...\n",
      "fetching book 60...\n",
      "fetching book 61...\n",
      "fetching book 62...\n",
      "fetching book 63...\n",
      "fetching book 64...\n",
      "fetching book 65...\n",
      "fetching book 66...\n",
      "fetching book 67...\n",
      "fetching book 68...\n",
      "fetching book 69...\n",
      "fetching book 70...\n",
      "fetching book 71...\n",
      "fetching book 72...\n",
      "fetching book 73...\n",
      "fetching book 74...\n",
      "fetching book 75...\n",
      "fetching book 76...\n",
      "fetching book 77...\n",
      "fetching book 78...\n",
      "fetching book 79...\n",
      "fetching book 80...\n",
      "fetching book 81...\n",
      "fetching book 82...\n",
      "fetching book 83...\n",
      "fetching book 84...\n",
      "fetching book 85...\n",
      "fetching book 86...\n",
      "fetching book 87...\n",
      "fetching book 88...\n",
      "fetching book 89...\n",
      "fetching book 90...\n",
      "fetching book 91...\n",
      "fetching book 92...\n",
      "fetching book 93...\n",
      "fetching book 94...\n",
      "fetching book 95...\n",
      "fetching book 96...\n",
      "fetching book 97...\n",
      "fetching book 98...\n",
      "fetching book 99...\n",
      "fetching book 100...\n",
      "fetching book 101...\n",
      "fetching book 102...\n",
      "fetching book 103...\n",
      "fetching book 104...\n",
      "fetching book 105...\n",
      "fetching book 106...\n",
      "fetching book 107...\n",
      "fetching book 108...\n",
      "fetching book 109...\n",
      "fetching book 110...\n",
      "fetching book 111...\n",
      "fetching book 112...\n",
      "fetching book 113...\n",
      "fetching book 114...\n",
      "fetching book 115...\n",
      "fetching book 116...\n",
      "fetching book 117...\n",
      "fetching book 118...\n"
     ]
    }
   ],
   "source": [
    "book_list = []\n",
    "for i, link in enumerate(links):\n",
    "    #setup\n",
    "    page = requests.get(link)\n",
    "    soup = BeautifulSoup(page.text, 'html') \n",
    "    active_book = soup.find('li', class_='active').previous_sibling.previous_sibling\n",
    "    article = soup.find('article', class_='product_page')\n",
    "    table = article.find('table', class_='table-striped')\n",
    "    \n",
    "    print(f'fetching book {i+1}...')\n",
    "    \n",
    "    # extract book information\n",
    "    book_id = table.find_all('td')[0].text\n",
    "    title = article.find('h1').text\n",
    "    category = active_book.text.strip()\n",
    "    price = format_price(article.find('p', class_='price_color').text)\n",
    "    rating = format_rating(article.find('p', class_='star-rating')['class'][1])\n",
    "    product_type = table.find_all('td')[1].text\n",
    "    price_excl_tax = format_price(table.find_all('td')[2].text)\n",
    "    price_incl_tax = format_price(table.find_all('td')[3].text)\n",
    "    tax = format_price(table.find_all('td')[4].text)\n",
    "    availability = format_availabilty(table.find_all('td')[5].text)\n",
    "    num_reviews = int(table.find_all('td')[6].text)\n",
    "    img_url = base_url + article.find('img')['src']\n",
    "    description = (article.find('div', id='product_description').next_sibling.next_sibling.text \n",
    "               if article.find('div', id='product_description') \n",
    "               else \"no description\")\n",
    "    \n",
    "    # store information in a dictionary\n",
    "    book = {'id': book_id, 'title': title, 'category': category, 'price': price, 'rating': rating, 'product_type': product_type,\n",
    "    'price_excl_tax':price_excl_tax, 'price_incl_tax': price_incl_tax, 'tax':tax, 'availability': availability,\n",
    "     'num_reviews': num_reviews, 'img_url': img_url, 'description': description\n",
    "    }\n",
    "    \n",
    "    #add book to books list\n",
    "    book_list.append(book)\n",
    "    \n",
    "#create books dataframe    \n",
    "books = pd.DataFrame(book_list)"
   ]
  },
  {
   "cell_type": "code",
   "execution_count": null,
   "id": "8e54a1ce",
   "metadata": {},
   "outputs": [],
   "source": []
  }
 ],
 "metadata": {
  "kernelspec": {
   "display_name": "Python 3 (ipykernel)",
   "language": "python",
   "name": "python3"
  },
  "language_info": {
   "codemirror_mode": {
    "name": "ipython",
    "version": 3
   },
   "file_extension": ".py",
   "mimetype": "text/x-python",
   "name": "python",
   "nbconvert_exporter": "python",
   "pygments_lexer": "ipython3",
   "version": "3.9.13"
  }
 },
 "nbformat": 4,
 "nbformat_minor": 5
}
